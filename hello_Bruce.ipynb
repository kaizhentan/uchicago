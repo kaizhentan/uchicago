{
 "cells": [
  {
   "cell_type": "code",
   "execution_count": 2,
   "metadata": {},
   "outputs": [
    {
     "name": "stderr",
     "output_type": "stream",
     "text": [
      "C:\\Users\\bruce\\Anaconda3\\lib\\site-packages\\h5py\\__init__.py:36: FutureWarning: Conversion of the second argument of issubdtype from `float` to `np.floating` is deprecated. In future, it will be treated as `np.float64 == np.dtype(float).type`.\n",
      "  from ._conv import register_converters as _register_converters\n"
     ]
    }
   ],
   "source": [
    "# Trained Model\n",
    "import pandas as pd\n",
    "import numpy as np\n",
    "from chainer import serializers\n",
    "from chainer import Link, Chain, ChainList\n",
    "import chainer.links as L\n",
    "import chainer.functions as F\n",
    "##################################################################################\n",
    "##################################################################################\n",
    "#### Hi, Bruce. Frst of all, run the following code (from line 5 to line 49). ####\n",
    "##################################################################################\n",
    "##################################################################################\n",
    "##################################################################################\n"
   ]
  },
  {
   "cell_type": "code",
   "execution_count": 4,
   "metadata": {},
   "outputs": [],
   "source": [
    "ticker_df = pd.read_csv('stock_data/ticker_data.csv') ## Please change the directory where you save stock_data file.\n",
    "factor_df = pd.read_csv('stock_data/factor_data.csv') ## Same as above.\n",
    "ticker_df.set_index('timestep', inplace=True)\n",
    "factor_df.set_index('timestep', inplace=True)\n"
   ]
  },
  {
   "cell_type": "code",
   "execution_count": 5,
   "metadata": {},
   "outputs": [],
   "source": [
    "average = factor_df.mean()\n",
    "std = factor_df.std()\n",
    "\n",
    "factor_df = (factor_df - average)/std\n",
    "stock_df = ticker_df.join(factor_df, how='left')\n",
    "subdata = stock_df[stock_df['ticker']==0]"
   ]
  },
  {
   "cell_type": "code",
   "execution_count": 7,
   "metadata": {},
   "outputs": [
    {
     "name": "stderr",
     "output_type": "stream",
     "text": [
      "C:\\Users\\bruce\\Anaconda3\\lib\\site-packages\\numpy\\core\\_methods.py:29: RuntimeWarning: invalid value encountered in reduce\n",
      "  return umr_minimum(a, axis, None, out, keepdims)\n"
     ]
    }
   ],
   "source": [
    "X_training = subdata[['VIX', 'COPP', \"3M_R\", \"US_TRY\", \"BIG_IX\",\"SMALL_IX\", \"SENTI\", \"TEMP\", \"RAIN\", \"OIL\"]]\n",
    "X_training = X_training.as_matrix(columns=None)\n",
    "X_training = np.ndarray.astype(X_training, \"float32\")\n",
    "\n",
    "Y = subdata['returns']\n",
    "Y_training = pd.to_numeric(round(Y*2000+30),downcast='unsigned')\n",
    "Y_training = Y_training.as_matrix(columns=None)\n",
    "Y_training = Y_training.astype(np.int32)\n",
    "\n",
    "lis_t = list(range(0,2520))\n",
    "for t in range(2519):\n",
    "    if t == 0:\n",
    "        train = [(X_training[lis_t[t]],Y_training[lis_t[t+1]])]\n",
    "    else:\n",
    "        train.append((X_training[lis_t[t]],Y_training[lis_t[t+1]]))"
   ]
  },
  {
   "cell_type": "code",
   "execution_count": 8,
   "metadata": {},
   "outputs": [],
   "source": [
    "##################################################################################\n",
    "##################################################################################\n",
    "\n",
    "class MyNetwork(Chain):\n",
    "\n",
    "    def __init__(self, n_mid_units=100, n_out=60):\n",
    "        super(MyNetwork, self).__init__()\n",
    "        with self.init_scope():\n",
    "            self.l1 = L.Linear(None, n_mid_units)\n",
    "            #self.l2 = L.Linear(n_mid_units, n_out)\n",
    "            self.l2 = L.Linear(n_mid_units, n_mid_units)\n",
    "            self.l3 = L.Linear(n_mid_units, n_out)\n",
    "\n",
    "    def __call__(self, x):\n",
    "        h = F.relu(self.l1(x))\n",
    "        #return self.l2(h)\n",
    "        h = F.relu(self.l2(h))\n",
    "        return self.l3(h)\n",
    "    \n",
    "##################################################################################\n",
    "##################################################################################\n",
    "\n"
   ]
  },
  {
   "cell_type": "code",
   "execution_count": 9,
   "metadata": {},
   "outputs": [],
   "source": [
    "# Create an instance of the network we trained.\n",
    "infer_model = MyNetwork()"
   ]
  },
  {
   "cell_type": "code",
   "execution_count": 11,
   "metadata": {},
   "outputs": [],
   "source": [
    "# Load the parameter I sent\n",
    "serializers.load_npz('beat_fume.model_0', infer_model)"
   ]
  },
  {
   "cell_type": "code",
   "execution_count": 13,
   "metadata": {},
   "outputs": [],
   "source": [
    "x, t = train[count]"
   ]
  },
  {
   "cell_type": "code",
   "execution_count": 14,
   "metadata": {},
   "outputs": [
    {
     "data": {
      "text/plain": [
       "array([-0.7822677 ,  0.12208829, -1.7669486 , -0.20783566, -0.76660186,\n",
       "       -1.1811434 ,  1.4242871 , -1.5588814 ,  0.6571092 , -0.581376  ],\n",
       "      dtype=float32)"
      ]
     },
     "execution_count": 14,
     "metadata": {},
     "output_type": "execute_result"
    }
   ],
   "source": [
    "x"
   ]
  },
  {
   "cell_type": "code",
   "execution_count": 15,
   "metadata": {},
   "outputs": [
    {
     "data": {
      "text/plain": [
       "21"
      ]
     },
     "execution_count": 15,
     "metadata": {},
     "output_type": "execute_result"
    }
   ],
   "source": [
    "t"
   ]
  },
  {
   "cell_type": "code",
   "execution_count": 20,
   "metadata": {},
   "outputs": [
    {
     "data": {
      "text/plain": [
       "0.0"
      ]
     },
     "execution_count": 20,
     "metadata": {},
     "output_type": "execute_result"
    }
   ],
   "source": [
    "-0.015+30*0.0005"
   ]
  },
  {
   "cell_type": "code",
   "execution_count": 12,
   "metadata": {},
   "outputs": [
    {
     "name": "stdout",
     "output_type": "stream",
     "text": [
      "13\n",
      "(10,) -> (1, 10)\n",
      "predicted label: 13\n",
      "4\n",
      "(10,) -> (1, 10)\n",
      "predicted label: 4\n",
      "19\n",
      "(10,) -> (1, 10)\n",
      "predicted label: 19\n",
      "21\n",
      "(10,) -> (1, 10)\n",
      "predicted label: 21\n",
      "12\n",
      "(10,) -> (1, 10)\n",
      "predicted label: 12\n",
      "19\n",
      "(10,) -> (1, 10)\n",
      "predicted label: 19\n",
      "12\n",
      "(10,) -> (1, 10)\n",
      "predicted label: 12\n",
      "19\n",
      "(10,) -> (1, 10)\n",
      "predicted label: 19\n",
      "19\n",
      "(10,) -> (1, 10)\n",
      "predicted label: 19\n",
      "17\n",
      "(10,) -> (1, 10)\n",
      "predicted label: 17\n",
      "17\n",
      "(10,) -> (1, 10)\n",
      "predicted label: 17\n",
      "22\n",
      "(10,) -> (1, 10)\n",
      "predicted label: 22\n",
      "12\n",
      "(10,) -> (1, 10)\n",
      "predicted label: 12\n",
      "2\n",
      "(10,) -> (1, 10)\n",
      "predicted label: 2\n",
      "4\n",
      "(10,) -> (1, 10)\n",
      "predicted label: 4\n",
      "26\n",
      "(10,) -> (1, 10)\n",
      "predicted label: 26\n",
      "15\n",
      "(10,) -> (1, 10)\n",
      "predicted label: 15\n",
      "32\n",
      "(10,) -> (1, 10)\n",
      "predicted label: 32\n",
      "17\n",
      "(10,) -> (1, 10)\n",
      "predicted label: 17\n",
      "23\n",
      "(10,) -> (1, 10)\n",
      "predicted label: 23\n",
      "14\n",
      "(10,) -> (1, 10)\n",
      "predicted label: 14\n",
      "15\n",
      "(10,) -> (1, 10)\n",
      "predicted label: 15\n",
      "18\n",
      "(10,) -> (1, 10)\n",
      "predicted label: 18\n",
      "21\n",
      "(10,) -> (1, 10)\n",
      "predicted label: 21\n",
      "16\n",
      "(10,) -> (1, 10)\n",
      "predicted label: 16\n",
      "26\n",
      "(10,) -> (1, 10)\n",
      "predicted label: 26\n",
      "21\n",
      "(10,) -> (1, 10)\n",
      "predicted label: 21\n",
      "12\n",
      "(10,) -> (1, 10)\n",
      "predicted label: 12\n",
      "13\n",
      "(10,) -> (1, 10)\n",
      "predicted label: 13\n",
      "20\n",
      "(10,) -> (1, 10)\n",
      "predicted label: 20\n",
      "15\n",
      "(10,) -> (1, 10)\n",
      "predicted label: 15\n",
      "16\n",
      "(10,) -> (1, 10)\n",
      "predicted label: 16\n",
      "14\n",
      "(10,) -> (1, 10)\n",
      "predicted label: 14\n",
      "19\n",
      "(10,) -> (1, 10)\n",
      "predicted label: 19\n",
      "34\n",
      "(10,) -> (1, 10)\n",
      "predicted label: 34\n",
      "7\n",
      "(10,) -> (1, 10)\n",
      "predicted label: 7\n",
      "14\n",
      "(10,) -> (1, 10)\n",
      "predicted label: 14\n",
      "28\n",
      "(10,) -> (1, 10)\n",
      "predicted label: 28\n",
      "28\n",
      "(10,) -> (1, 10)\n",
      "predicted label: 28\n",
      "23\n",
      "(10,) -> (1, 10)\n",
      "predicted label: 23\n",
      "14\n",
      "(10,) -> (1, 10)\n",
      "predicted label: 14\n",
      "0\n",
      "(10,) -> (1, 10)\n",
      "predicted label: 0\n",
      "10\n",
      "(10,) -> (1, 10)\n",
      "predicted label: 10\n",
      "23\n",
      "(10,) -> (1, 10)\n",
      "predicted label: 23\n",
      "20\n",
      "(10,) -> (1, 10)\n",
      "predicted label: 20\n",
      "19\n",
      "(10,) -> (1, 10)\n",
      "predicted label: 19\n",
      "19\n",
      "(10,) -> (1, 10)\n",
      "predicted label: 19\n",
      "16\n",
      "(10,) -> (1, 10)\n",
      "predicted label: 16\n",
      "16\n",
      "(10,) -> (1, 10)\n",
      "predicted label: 16\n",
      "6\n",
      "(10,) -> (1, 10)\n",
      "predicted label: 6\n"
     ]
    }
   ],
   "source": [
    "ans = []\n",
    "ans_sig = []\n",
    "pred = []\n",
    "pred_sig = []\n",
    "\n",
    "for count in range(50,100):\n",
    "\n",
    "    # Get a test image and label\n",
    "    x, t = train[count]\n",
    "    print(t-15)\n",
    "    ans.append(t-15)\n",
    "    if t-15>0:\n",
    "        ans_sig.append(1)\n",
    "    else:\n",
    "        ans_sig.append(0)\n",
    "    \n",
    "    print(x.shape, end=' -> ')\n",
    "    x = x[None, ...]\n",
    "    print(x.shape)\n",
    "    \n",
    "    # forward calculation of the model by sending X\n",
    "    y = infer_model(x)\n",
    "    \n",
    "    # The result is given as Variable, then we can take a look at the contents by the attribute, .data.\n",
    "    y = y.data\n",
    "    \n",
    "    # Look up the most probable digit number using argmax\n",
    "    pred_label = y.argmax(axis=1)\n",
    "    \n",
    "    print('predicted label:', (pred_label[0]-15))\n",
    "    pred.append(pred_label[0]-15)\n",
    "    if pred_label[0]-15 >0:\n",
    "        pred_sig.append(1)\n",
    "    else:\n",
    "        ans_sig.append(0)"
   ]
  },
  {
   "cell_type": "code",
   "execution_count": 23,
   "metadata": {},
   "outputs": [
    {
     "data": {
      "text/plain": [
       "20"
      ]
     },
     "execution_count": 23,
     "metadata": {},
     "output_type": "execute_result"
    }
   ],
   "source": [
    "subdata['returns'][1]*2000+30\n",
    "train[0][1]"
   ]
  },
  {
   "cell_type": "code",
   "execution_count": 30,
   "metadata": {},
   "outputs": [
    {
     "data": {
      "text/plain": [
       "-0.004830685328828133"
      ]
     },
     "execution_count": 30,
     "metadata": {},
     "output_type": "execute_result"
    }
   ],
   "source": [
    "subdata['returns'][1]"
   ]
  },
  {
   "cell_type": "code",
   "execution_count": 29,
   "metadata": {},
   "outputs": [
    {
     "data": {
      "text/plain": [
       "-0.005"
      ]
     },
     "execution_count": 29,
     "metadata": {},
     "output_type": "execute_result"
    }
   ],
   "source": [
    "(20-30)/2000"
   ]
  },
  {
   "cell_type": "code",
   "execution_count": 35,
   "metadata": {},
   "outputs": [
    {
     "data": {
      "text/plain": [
       "-0.03504982412359723"
      ]
     },
     "execution_count": 35,
     "metadata": {},
     "output_type": "execute_result"
    }
   ],
   "source": []
  },
  {
   "cell_type": "code",
   "execution_count": null,
   "metadata": {},
   "outputs": [],
   "source": []
  }
 ],
 "metadata": {
  "kernelspec": {
   "display_name": "Python 3",
   "language": "python",
   "name": "python3"
  },
  "language_info": {
   "codemirror_mode": {
    "name": "ipython",
    "version": 3
   },
   "file_extension": ".py",
   "mimetype": "text/x-python",
   "name": "python",
   "nbconvert_exporter": "python",
   "pygments_lexer": "ipython3",
   "version": "3.6.4"
  }
 },
 "nbformat": 4,
 "nbformat_minor": 2
}
